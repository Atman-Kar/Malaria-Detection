{
 "cells": [
  {
   "cell_type": "code",
   "execution_count": 1,
   "metadata": {},
   "outputs": [
    {
     "name": "stderr",
     "output_type": "stream",
     "text": [
      "Using TensorFlow backend.\n"
     ]
    },
    {
     "name": "stdout",
     "output_type": "stream",
     "text": [
      "['.DS_Store', 'Parasitized', 'Uninfected']\n"
     ]
    }
   ],
   "source": [
    "import numpy as np\n",
    "import cv2 as cv\n",
    "import pandas as pd\n",
    "import os\n",
    "from random import shuffle\n",
    "from keras.models import Sequential\n",
    "from keras.layers import Dense, Conv2D , Flatten , Dropout\n",
    "from sklearn.model_selection import train_test_split\n",
    "\n",
    "print(os.listdir('cell_images'))"
   ]
  },
  {
   "cell_type": "code",
   "execution_count": 2,
   "metadata": {},
   "outputs": [
    {
     "name": "stdout",
     "output_type": "stream",
     "text": [
      "27560 27560\n"
     ]
    }
   ],
   "source": [
    "cell_data = [] #This will store the cell image path and 1/0 depending whether it is Parasitized or not.\n",
    "\n",
    "infected_cell_path = os.listdir('cell_images/Parasitized')\n",
    "uninfected_cell_path = os.listdir('cell_images/Uninfected')\n",
    "\n",
    "\n",
    "for i in infected_cell_path:\n",
    "    cell_data.append(['cell_images/Parasitized/' + i , 1])\n",
    "\n",
    "for i in uninfected_cell_path:\n",
    "    cell_data.append(['cell_images/Uninfected/' + i , 0])\n",
    "\n",
    "shuffle(cell_data)\n",
    "images = [data[0] for data in cell_data]\n",
    "state = [data[1] for data in cell_data]\n",
    "\n",
    "print(len(images) , len(state))\n",
    "\n",
    "del cell_data"
   ]
  },
  {
   "cell_type": "code",
   "execution_count": 5,
   "metadata": {},
   "outputs": [
    {
     "name": "stdout",
     "output_type": "stream",
     "text": [
      "27558 27558\n"
     ]
    }
   ],
   "source": [
    "def get_image(path):\n",
    "    '''Returns image matrix data in RGB format'''\n",
    "    im = cv.imread(path , 1)\n",
    "    im = cv.resize(im , (60 , 60))\n",
    "    im = im/255 #Normalize the values in the image\n",
    "    return im\n",
    "\n",
    "\n",
    "X = []\n",
    "y = []\n",
    "\n",
    "for i in range(len(images)):\n",
    "    \n",
    "    try:\n",
    "        \n",
    "        X.append(get_image(images[i]))\n",
    "        y.append(state[i])\n",
    "    \n",
    "    except:\n",
    "        pass\n",
    "\n",
    "print(len(X) , len(y))"
   ]
  },
  {
   "cell_type": "code",
   "execution_count": 6,
   "metadata": {},
   "outputs": [],
   "source": [
    "X_train , X_test , y_train , y_test = train_test_split(X , y , test_size = 0.1 , random_state = 66)\n",
    "X_train , X_val , y_train , y_val = train_test_split(X_train , y_train , test_size = 0.1 , random_state = 64)"
   ]
  },
  {
   "cell_type": "code",
   "execution_count": 7,
   "metadata": {},
   "outputs": [],
   "source": [
    "X_train = np.array(X_train)\n",
    "y_train = np.array(y_train)\n",
    "X_val = np.array(X_val)\n",
    "y_val = np.array(y_val)"
   ]
  },
  {
   "cell_type": "code",
   "execution_count": 14,
   "metadata": {},
   "outputs": [],
   "source": [
    "#Setup CNN model\n",
    "\n",
    "model = Sequential()\n",
    "\n",
    "model.add(Conv2D(64 , kernel_size = 3 , activation='relu' , input_shape = (60 , 60 , 3)))\n",
    "model.add(Conv2D(32 , kernel_size = 3 , activation='relu'))\n",
    "model.add(Conv2D(16 , kernel_size = 3 , activation='relu'))\n",
    "model.add(Flatten())\n",
    "model.add(Dropout(0.1))\n",
    "model.add(Dense(1 , activation = 'sigmoid'))\n",
    "\n",
    "model.compile(optimizer='adam', loss='binary_crossentropy', metrics=['accuracy'])\n"
   ]
  },
  {
   "cell_type": "code",
   "execution_count": 17,
   "metadata": {},
   "outputs": [
    {
     "name": "stdout",
     "output_type": "stream",
     "text": [
      "Train on 22321 samples, validate on 2481 samples\n",
      "Epoch 1/10\n",
      "22321/22321 [==============================] - 347s 16ms/step - loss: 0.6430 - acc: 0.6359 - val_loss: 0.7043 - val_acc: 0.8541\n",
      "Epoch 2/10\n",
      "22321/22321 [==============================] - 339s 15ms/step - loss: 0.4405 - acc: 0.8536 - val_loss: 0.6088 - val_acc: 0.6868\n",
      "Epoch 3/10\n",
      "22321/22321 [==============================] - 335s 15ms/step - loss: 0.3806 - acc: 0.8570 - val_loss: 0.2945 - val_acc: 0.9037\n",
      "Epoch 4/10\n",
      "22321/22321 [==============================] - 340s 15ms/step - loss: 0.2393 - acc: 0.9215 - val_loss: 0.2441 - val_acc: 0.9029\n",
      "Epoch 5/10\n",
      "22321/22321 [==============================] - 340s 15ms/step - loss: 0.1550 - acc: 0.9503 - val_loss: 0.2012 - val_acc: 0.9359\n",
      "Epoch 6/10\n",
      "22321/22321 [==============================] - 336s 15ms/step - loss: 0.1221 - acc: 0.9615 - val_loss: 0.2081 - val_acc: 0.9359\n",
      "Epoch 7/10\n",
      "22321/22321 [==============================] - 338s 15ms/step - loss: 0.1187 - acc: 0.9618 - val_loss: 0.2329 - val_acc: 0.9295\n",
      "Epoch 8/10\n",
      "22321/22321 [==============================] - 339s 15ms/step - loss: 0.0863 - acc: 0.9741 - val_loss: 0.2407 - val_acc: 0.9319\n",
      "Epoch 9/10\n",
      "22321/22321 [==============================] - 337s 15ms/step - loss: 0.0723 - acc: 0.9784 - val_loss: 0.2501 - val_acc: 0.9339\n",
      "Epoch 10/10\n",
      "22321/22321 [==============================] - 340s 15ms/step - loss: 0.0639 - acc: 0.9812 - val_loss: 0.2832 - val_acc: 0.9283\n"
     ]
    },
    {
     "data": {
      "text/plain": [
       "<keras.callbacks.History at 0x2b602b2e8>"
      ]
     },
     "execution_count": 17,
     "metadata": {},
     "output_type": "execute_result"
    }
   ],
   "source": [
    "model.fit(X_train , y_train , validation_data=(X_val , y_val) , epochs=10)"
   ]
  },
  {
   "cell_type": "code",
   "execution_count": 18,
   "metadata": {},
   "outputs": [],
   "source": [
    "del X_train, y_train , X_val , y_val"
   ]
  },
  {
   "cell_type": "code",
   "execution_count": 19,
   "metadata": {},
   "outputs": [],
   "source": [
    "X_test = np.array(X_test)\n",
    "y_test = np.array(y_test)"
   ]
  },
  {
   "cell_type": "code",
   "execution_count": 21,
   "metadata": {},
   "outputs": [],
   "source": [
    "pred = np.rint(model.predict(X_test))"
   ]
  },
  {
   "cell_type": "code",
   "execution_count": 23,
   "metadata": {},
   "outputs": [
    {
     "name": "stdout",
     "output_type": "stream",
     "text": [
      "93.29% of test cases were predicted successfully\n"
     ]
    }
   ],
   "source": [
    "success = 0\n",
    "for i in range(len(pred)):\n",
    "    if(pred[i] == y_test[i]):\n",
    "        success += 1\n",
    "\n",
    "print(str(np.round((success*100)/len(pred),2))+'% of test cases were predicted successfully')"
   ]
  },
  {
   "cell_type": "code",
   "execution_count": 36,
   "metadata": {},
   "outputs": [
    {
     "data": {
      "text/plain": [
       "array([[ 0.]], dtype=float32)"
      ]
     },
     "execution_count": 36,
     "metadata": {},
     "output_type": "execute_result"
    }
   ],
   "source": [
    "test_path = 'cell_images/Uninfected/C49P10thinF_IMG_20150724_102843_cell_64.png'\n",
    "im = []\n",
    "im.append(get_image(test_path))\n",
    "im = np.array(im)\n",
    "np.rint(model.predict(im)) #Returns 0 -----> Uninfected Cell (Correct answer)"
   ]
  }
 ],
 "metadata": {
  "kernelspec": {
   "display_name": "Python 3",
   "language": "python",
   "name": "python3"
  },
  "language_info": {
   "codemirror_mode": {
    "name": "ipython",
    "version": 3
   },
   "file_extension": ".py",
   "mimetype": "text/x-python",
   "name": "python",
   "nbconvert_exporter": "python",
   "pygments_lexer": "ipython3",
   "version": "3.6.4"
  }
 },
 "nbformat": 4,
 "nbformat_minor": 2
}
